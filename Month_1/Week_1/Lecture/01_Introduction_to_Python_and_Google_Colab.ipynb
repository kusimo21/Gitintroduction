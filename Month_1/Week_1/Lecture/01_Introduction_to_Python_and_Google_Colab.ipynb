{
  "cells": [
    {
      "cell_type": "markdown",
      "metadata": {
        "id": "view-in-github",
        "colab_type": "text"
      },
      "source": [
        "<a href=\"https://colab.research.google.com/github/kusimo21/Gitintroduction/blob/main/Month_1/Week_1/Lecture/01_Introduction_to_Python_and_Google_Colab.ipynb\" target=\"_parent\"><img src=\"https://colab.research.google.com/assets/colab-badge.svg\" alt=\"Open In Colab\"/></a>"
      ]
    },
    {
      "cell_type": "markdown",
      "metadata": {
        "id": "MA95UIEeBPGO"
      },
      "source": [
        "# Notebook 1: Introduction to Google Colab and Python Basics"
      ]
    },
    {
      "cell_type": "markdown",
      "metadata": {
        "id": "g_I96KKxBPGR"
      },
      "source": [
        "## SECTION 1: GETTING STARTED WITH GOOGLE COLAB\n",
        "\n",
        "Welcome to your first Python for Data Analysis class! This notebook will introduce you to Google Colab and Python basics, with a special focus on helping SQL users transition to Python."
      ]
    },
    {
      "cell_type": "code",
      "execution_count": 1,
      "metadata": {
        "id": "fzQBwCVUBPGS",
        "outputId": "417ac07a-ab01-4e0e-ee18-3fdbfd35ed98",
        "colab": {
          "base_uri": "https://localhost:8080/"
        }
      },
      "outputs": [
        {
          "output_type": "stream",
          "name": "stdout",
          "text": [
            "Welcome to Google Colab!\n"
          ]
        }
      ],
      "source": [
        "# This is a code cell. You can run Python code here by clicking the play button\n",
        "# on the left or pressing Shift+Enter.\n",
        "print(\"Welcome to Google Colab!\")\n",
        "\n",
        "# EXERCISE: Run this cell to verify your environment is working properly."
      ]
    },
    {
      "cell_type": "code",
      "execution_count": null,
      "metadata": {
        "id": "m9Cm4uS3BPGT",
        "outputId": "1c37902a-0b61-4cbf-efcc-6f9fc9c3f44b",
        "colab": {
          "base_uri": "https://localhost:8080/"
        }
      },
      "outputs": [
        {
          "output_type": "stream",
          "name": "stdout",
          "text": [
            "Python version: 3.11.11 (main, Dec  4 2024, 08:55:07) [GCC 11.4.0]\n"
          ]
        }
      ],
      "source": [
        "# Google Colab provides many built-in Python libraries\n",
        "# Let's check our Python version\n",
        "import sys\n",
        "print(f\"Python version: {sys.version}\")"
      ]
    },
    {
      "cell_type": "markdown",
      "metadata": {
        "id": "xL0x5HaUBPGU"
      },
      "source": [
        "## SECTION 2: PYTHON VARIABLES AND DATA TYPES\n",
        "\n",
        "In Python, you can create variables without declaring their type. This is different from SQL where column types must be defined in tables."
      ]
    },
    {
      "cell_type": "code",
      "execution_count": null,
      "metadata": {
        "id": "qxseZJZlBPGU",
        "outputId": "987e7d0c-e207-4675-937f-281e118942d3",
        "colab": {
          "base_uri": "https://localhost:8080/"
        }
      },
      "outputs": [
        {
          "output_type": "stream",
          "name": "stdout",
          "text": [
            "42\n",
            "3.14159\n",
            "Hello, Data Analyst!\n",
            "True\n"
          ]
        }
      ],
      "source": [
        "# Numeric types\n",
        "integer_value = 42\n",
        "float_value = 3.14159\n",
        "\n",
        "# Text type\n",
        "text_string = \"Hello, Data Analyst!\"\n",
        "another_string = 'Single quotes work too'\n",
        "\n",
        "# Boolean type\n",
        "is_active = True\n",
        "has_data = False\n",
        "\n",
        "# The print() function outputs values to the console\n",
        "print(integer_value)\n",
        "print(float_value)\n",
        "print(text_string)\n",
        "print(is_active)"
      ]
    },
    {
      "cell_type": "code",
      "execution_count": null,
      "metadata": {
        "id": "TTl-zqZxBPGU",
        "outputId": "ce74b368-5c99-45c2-885c-600310ad271d",
        "colab": {
          "base_uri": "https://localhost:8080/"
        }
      },
      "outputs": [
        {
          "output_type": "stream",
          "name": "stdout",
          "text": [
            "<class 'int'>\n",
            "<class 'float'>\n",
            "<class 'str'>\n",
            "<class 'bool'>\n"
          ]
        }
      ],
      "source": [
        "# You can check variable types with the type() function\n",
        "print(type(integer_value))  # <class 'int'>\n",
        "print(type(float_value))    # <class 'float'>\n",
        "print(type(text_string))    # <class 'str'>\n",
        "print(type(is_active))      # <class 'bool'>"
      ]
    },
    {
      "cell_type": "markdown",
      "metadata": {
        "id": "SzPuGtoTBPGV"
      },
      "source": [
        "### EXERCISE: Create your own variables with different data types and print their values and types.\n",
        "\n",
        "Try creating variables to represent data you might find in an e-commerce dataset (like those in the Olist database)."
      ]
    },
    {
      "cell_type": "code",
      "execution_count": null,
      "metadata": {
        "id": "9JNydbnfBPGV"
      },
      "outputs": [],
      "source": [
        "# Your code here:\n",
        "\n"
      ]
    },
    {
      "cell_type": "markdown",
      "metadata": {
        "id": "baAstPfXBPGW"
      },
      "source": [
        "## SECTION 3: BASIC OPERATIONS"
      ]
    },
    {
      "cell_type": "code",
      "execution_count": null,
      "metadata": {
        "id": "GX3l2AzsBPGW",
        "outputId": "fdc8ba3e-f735-40c3-c2d5-9aa5def53b73",
        "colab": {
          "base_uri": "https://localhost:8080/"
        }
      },
      "outputs": [
        {
          "output_type": "stream",
          "name": "stdout",
          "text": [
            "Addition: 15\n",
            "Subtraction: 5\n",
            "Multiplication: 50\n",
            "Division: 2.0\n",
            "Integer Division: 3\n",
            "Remainder: 1\n",
            "Exponentiation: 100\n"
          ]
        }
      ],
      "source": [
        "# Arithmetic operations\n",
        "addition = 10 + 5\n",
        "subtraction = 10 - 5\n",
        "multiplication = 10 * 5\n",
        "division = 10 / 5  # Returns float\n",
        "integer_division = 10 // 3  # Returns integer part only\n",
        "remainder = 10 % 3  # Returns remainder\n",
        "exponentiation = 10 ** 2  # 10 to the power of 2\n",
        "\n",
        "print(f\"Addition: {addition}\")\n",
        "print(f\"Subtraction: {subtraction}\")\n",
        "print(f\"Multiplication: {multiplication}\")\n",
        "print(f\"Division: {division}\")\n",
        "print(f\"Integer Division: {integer_division}\")\n",
        "print(f\"Remainder: {remainder}\")\n",
        "print(f\"Exponentiation: {exponentiation}\")"
      ]
    },
    {
      "cell_type": "code",
      "execution_count": null,
      "metadata": {
        "id": "iVv402tjBPGW"
      },
      "outputs": [],
      "source": [
        "# String operations\n",
        "first_name = \"Data\"\n",
        "last_name = \"Analyst\"\n",
        "\n",
        "# Concatenation\n",
        "full_name = first_name + \" \" + last_name\n",
        "print(full_name)\n",
        "\n",
        "# String methods\n",
        "print(full_name.upper())  # Convert to uppercase\n",
        "print(full_name.lower())  # Convert to lowercase\n",
        "print(len(full_name))     # String length\n",
        "print(full_name.replace(\"Data\", \"Python\"))  # Replace substring\n",
        "\n",
        "# String formatting (f-strings, introduced in Python 3.6)\n",
        "age = 25\n",
        "experience = 3.5\n",
        "intro = f\"I am a {full_name}, {age} years old with {experience} years of experience.\"\n",
        "print(intro)"
      ]
    },
    {
      "cell_type": "markdown",
      "metadata": {
        "id": "fZt571RABPGW"
      },
      "source": [
        "### EXERCISE: Create and manipulate your own variables to practice these operations.\n",
        "\n",
        "Try performing calculations you might do with an e-commerce dataset, like calculating total order values or formatting product information."
      ]
    },
    {
      "cell_type": "code",
      "execution_count": null,
      "metadata": {
        "id": "C6IdS0QQBPGW"
      },
      "outputs": [],
      "source": [
        "# Your code here:\n",
        "\n"
      ]
    },
    {
      "cell_type": "markdown",
      "metadata": {
        "id": "Y1oJ4rP6BPGW"
      },
      "source": [
        "## SECTION 4: DATA STRUCTURES\n",
        "\n",
        "### LISTS\n",
        "Similar to arrays in other languages, can store mixed data types"
      ]
    },
    {
      "cell_type": "code",
      "execution_count": null,
      "metadata": {
        "id": "YbziDb0YBPGX"
      },
      "outputs": [],
      "source": [
        "# Creating a list\n",
        "products = [\"Laptop\", \"Headphones\", \"Mouse\", \"Keyboard\"]\n",
        "prices = [1200, 150, 25, 60]\n",
        "mixed_list = [\"Product\", 42, 3.14, True, None]\n",
        "\n",
        "print(products)\n",
        "print(prices)\n",
        "print(mixed_list)\n",
        "\n",
        "# Accessing list elements (0-indexed)\n",
        "print(f\"First product: {products[0]}\")  # Laptop\n",
        "print(f\"Last product: {products[-1]}\")  # Keyboard\n",
        "\n",
        "# Slicing lists [start:end:step]\n",
        "print(f\"First two products: {products[0:2]}\")  # ['Laptop', 'Headphones']\n",
        "print(f\"Every other price: {prices[::2]}\")     # [1200, 25]"
      ]
    },
    {
      "cell_type": "code",
      "execution_count": null,
      "metadata": {
        "id": "asKWD5dgBPGX"
      },
      "outputs": [],
      "source": [
        "# List methods\n",
        "products.append(\"Monitor\")  # Add to end\n",
        "print(products)\n",
        "\n",
        "products.insert(1, \"Tablet\")  # Insert at specific position\n",
        "print(products)\n",
        "\n",
        "products.remove(\"Mouse\")  # Remove specific value\n",
        "print(products)\n",
        "\n",
        "popped_item = products.pop()  # Remove and return last item\n",
        "print(f\"Removed: {popped_item}, Remaining: {products}\")\n",
        "\n",
        "# List operations\n",
        "total_items = len(products)\n",
        "print(f\"Total products: {total_items}\")\n",
        "\n",
        "sorted_prices = sorted(prices)\n",
        "print(f\"Sorted prices: {sorted_prices}\")"
      ]
    },
    {
      "cell_type": "markdown",
      "metadata": {
        "id": "2kUA36boBPGY"
      },
      "source": [
        "### DICTIONARIES\n",
        "Key-value pairs (similar to JSON)\n",
        "\n",
        "In SQL, this might be like a row in a table with column names as keys"
      ]
    },
    {
      "cell_type": "code",
      "execution_count": null,
      "metadata": {
        "id": "nIW4o0mmBPGY"
      },
      "outputs": [],
      "source": [
        "product = {\n",
        "    \"name\": \"Laptop\",\n",
        "    \"brand\": \"TechBrand\",\n",
        "    \"price\": 1200,\n",
        "    \"in_stock\": True,\n",
        "    \"specs\": {\n",
        "        \"cpu\": \"Intel i7\",\n",
        "        \"ram\": \"16GB\",\n",
        "        \"storage\": \"512GB SSD\"\n",
        "    }\n",
        "}\n",
        "\n",
        "print(product)\n",
        "\n",
        "# Accessing dictionary values\n",
        "print(f\"Product name: {product['name']}\")\n",
        "print(f\"CPU: {product['specs']['cpu']}\")\n",
        "\n",
        "# Dictionary methods\n",
        "print(f\"Keys: {product.keys()}\")\n",
        "print(f\"Values: {product.values()}\")\n",
        "print(f\"Items: {product.items()}\")\n",
        "\n",
        "# Adding/updating values\n",
        "product[\"color\"] = \"Silver\"\n",
        "product[\"price\"] = 1100  # Update existing key\n",
        "print(product)\n",
        "\n",
        "# Safe access with get() (returns None or default if key doesn't exist)\n",
        "print(product.get(\"weight\", \"Not specified\"))"
      ]
    },
    {
      "cell_type": "markdown",
      "metadata": {
        "id": "qbOj40TgBPGY"
      },
      "source": [
        "### EXERCISE: Create your own lists and dictionaries and practice accessing and modifying them.\n",
        "\n",
        "Try creating data structures that might represent e-commerce orders, customers, or products."
      ]
    },
    {
      "cell_type": "code",
      "execution_count": null,
      "metadata": {
        "id": "BYoN0nbQBPGY"
      },
      "outputs": [],
      "source": [
        "# Your code here:\n",
        "\n"
      ]
    },
    {
      "cell_type": "markdown",
      "metadata": {
        "id": "JZjhXw-pBPGY"
      },
      "source": [
        "## SECTION 5: CONTROL FLOW\n",
        "\n",
        "### IF STATEMENTS"
      ]
    },
    {
      "cell_type": "code",
      "execution_count": null,
      "metadata": {
        "id": "L7tiDu7ABPGY"
      },
      "outputs": [],
      "source": [
        "price = 75\n",
        "\n",
        "if price > 100:\n",
        "    print(\"High price\")\n",
        "elif price > 50:\n",
        "    print(\"Medium price\")\n",
        "else:\n",
        "    print(\"Low price\")\n",
        "\n",
        "# Multiple conditions\n",
        "in_stock = True\n",
        "on_sale = True\n",
        "\n",
        "if in_stock and on_sale:\n",
        "    print(\"Available and on sale!\")\n",
        "elif in_stock or on_sale:\n",
        "    print(\"Either available or on sale\")\n",
        "else:\n",
        "    print(\"Neither available nor on sale\")"
      ]
    },
    {
      "cell_type": "markdown",
      "metadata": {
        "id": "zaZN1wNxBPGY"
      },
      "source": [
        "### LOOPS"
      ]
    },
    {
      "cell_type": "code",
      "execution_count": null,
      "metadata": {
        "id": "zYHBOkCWBPGY"
      },
      "outputs": [],
      "source": [
        "# For loop with list\n",
        "print(\"Products:\")\n",
        "for product in products:\n",
        "    print(f\"- {product}\")\n",
        "\n",
        "# For loop with range\n",
        "print(\"Numbers from 0 to 4:\")\n",
        "for i in range(5):  # 0, 1, 2, 3, 4\n",
        "    print(i)\n",
        "\n",
        "# For loop with range (start, stop, step)\n",
        "print(\"Even numbers from 2 to 10:\")\n",
        "for i in range(2, 11, 2):  # 2, 4, 6, 8, 10\n",
        "    print(i)\n",
        "\n",
        "# For loop with dictionary\n",
        "print(\"Product details:\")\n",
        "for key, value in product.items():\n",
        "    # Skip nested dictionaries for cleaner output\n",
        "    if isinstance(value, dict):\n",
        "        continue\n",
        "    print(f\"{key}: {value}\")"
      ]
    },
    {
      "cell_type": "code",
      "execution_count": null,
      "metadata": {
        "id": "HndARAvLBPGY"
      },
      "outputs": [],
      "source": [
        "# While loop\n",
        "count = 5\n",
        "print(\"Countdown:\")\n",
        "while count > 0:\n",
        "    print(count)\n",
        "    count -= 1\n",
        "print(\"Go!\")\n",
        "\n",
        "# Loop control\n",
        "print(\"Numbers divisible by 3 (from 1 to 10):\")\n",
        "for i in range(1, 11):\n",
        "    if i % 3 != 0:\n",
        "        continue  # Skip to next iteration\n",
        "    print(i)\n",
        "\n",
        "print(\"Loop until finding 'Mouse':\")\n",
        "for item in [\"Laptop\", \"Keyboard\", \"Mouse\", \"Monitor\"]:\n",
        "    print(item)\n",
        "    if item == \"Mouse\":\n",
        "        print(\"Found Mouse!\")\n",
        "        break  # Exit loop"
      ]
    },
    {
      "cell_type": "markdown",
      "metadata": {
        "id": "7gRyCqgVBPGZ"
      },
      "source": [
        "### EXERCISE: Write your own control flow examples with if statements and loops.\n",
        "\n",
        "Try creating examples that handle situations from an e-commerce context, like processing orders with different statuses or calculating shipping based on customer location."
      ]
    },
    {
      "cell_type": "code",
      "execution_count": null,
      "metadata": {
        "id": "4Z10I3cRBPGZ"
      },
      "outputs": [],
      "source": [
        "# Your code here:\n",
        "\n"
      ]
    },
    {
      "cell_type": "markdown",
      "metadata": {
        "id": "hIgRiiMbBPGZ"
      },
      "source": [
        "## SECTION 6: FUNCTIONS"
      ]
    },
    {
      "cell_type": "code",
      "execution_count": null,
      "metadata": {
        "id": "DVXZByhBBPGZ"
      },
      "outputs": [],
      "source": [
        "# Defining a simple function\n",
        "def greet(name):\n",
        "    return f\"Hello, {name}!\"\n",
        "\n",
        "# Calling the function\n",
        "message = greet(\"Data Analyst\")\n",
        "print(message)"
      ]
    },
    {
      "cell_type": "code",
      "execution_count": null,
      "metadata": {
        "id": "fyYsRChQBPGZ"
      },
      "outputs": [],
      "source": [
        "# Function with multiple parameters\n",
        "def calculate_total(price, quantity, tax_rate=0.1):\n",
        "    subtotal = price * quantity\n",
        "    tax = subtotal * tax_rate\n",
        "    return subtotal + tax\n",
        "\n",
        "# Calling with positional arguments\n",
        "total1 = calculate_total(19.99, 3)\n",
        "print(f\"Total 1: ${total1:.2f}\")\n",
        "\n",
        "# Calling with keyword arguments\n",
        "total2 = calculate_total(price=24.99, quantity=2, tax_rate=0.05)\n",
        "print(f\"Total 2: ${total2:.2f}\")"
      ]
    },
    {
      "cell_type": "code",
      "execution_count": null,
      "metadata": {
        "id": "rTJESIyQBPGZ"
      },
      "outputs": [],
      "source": [
        "# Function with multiple return values\n",
        "def get_product_stats(products):\n",
        "    count = len(products)\n",
        "    if count == 0:\n",
        "        return 0, None, None\n",
        "\n",
        "    min_product = min(products, key=len)\n",
        "    max_product = max(products, key=len)\n",
        "    return count, min_product, max_product\n",
        "\n",
        "# Unpacking multiple return values\n",
        "count, shortest, longest = get_product_stats([\"Laptop\", \"Mouse\", \"Keyboard\", \"Monitor\"])\n",
        "print(f\"Products: {count}, Shortest: {shortest}, Longest: {longest}\")"
      ]
    },
    {
      "cell_type": "markdown",
      "metadata": {
        "id": "t9jMri2rBPGZ"
      },
      "source": [
        "### EXERCISE: Write your own functions to solve problems related to data processing.\n",
        "\n",
        "Try creating functions that would be useful in an e-commerce context, like calculating shipping costs, formatting product details, or filtering products by category."
      ]
    },
    {
      "cell_type": "code",
      "execution_count": null,
      "metadata": {
        "id": "mQGorJt8BPGZ"
      },
      "outputs": [],
      "source": [
        "# Your code here:\n",
        "\n"
      ]
    },
    {
      "cell_type": "markdown",
      "metadata": {
        "id": "6gXLvMaEBPGZ"
      },
      "source": [
        "## SECTION 7: SQL TO PYTHON TRANSLATION\n",
        "\n",
        "In SQL, you use queries to retrieve and manipulate data. In Python, we often use pandas (imported as pd) for similar operations."
      ]
    },
    {
      "cell_type": "code",
      "execution_count": null,
      "metadata": {
        "id": "SKn8stv6BPGZ"
      },
      "outputs": [],
      "source": [
        "import pandas as pd\n",
        "\n",
        "# Create a DataFrame (similar to a SQL table)\n",
        "data = {\n",
        "    'product_id': [1, 2, 3, 4, 5],\n",
        "    'name': ['Laptop', 'Mouse', 'Keyboard', 'Monitor', 'Headphones'],\n",
        "    'category': ['Computer', 'Accessory', 'Accessory', 'Computer', 'Audio'],\n",
        "    'price': [1200, 25, 60, 300, 150],\n",
        "    'in_stock': [True, True, False, True, True]\n",
        "}\n",
        "\n",
        "products_df = pd.DataFrame(data)\n",
        "print(\"Products DataFrame:\")\n",
        "print(products_df)"
      ]
    },
    {
      "cell_type": "code",
      "execution_count": null,
      "metadata": {
        "id": "00fkTuE5BPGa"
      },
      "outputs": [],
      "source": [
        "# SQL: SELECT * FROM products\n",
        "# Python:\n",
        "print(\"\\nAll products (SELECT *):\\n\")\n",
        "print(products_df)\n",
        "\n",
        "# SQL: SELECT name, price FROM products\n",
        "# Python:\n",
        "print(\"\\nSelect specific columns:\\n\")\n",
        "print(products_df[['name', 'price']])\n",
        "\n",
        "# SQL: SELECT * FROM products WHERE category = 'Accessory'\n",
        "# Python:\n",
        "print(\"\\nFiltering (WHERE):\\n\")\n",
        "accessories = products_df[products_df['category'] == 'Accessory']\n",
        "print(accessories)"
      ]
    },
    {
      "cell_type": "code",
      "execution_count": null,
      "metadata": {
        "id": "6ivogeHDBPGa"
      },
      "outputs": [],
      "source": [
        "# SQL: SELECT category, AVG(price) FROM products GROUP BY category\n",
        "# Python:\n",
        "print(\"\\nGrouping and aggregation (GROUP BY):\\n\")\n",
        "category_avg = products_df.groupby('category')['price'].mean().reset_index()\n",
        "print(category_avg)\n",
        "\n",
        "# SQL: SELECT * FROM products ORDER BY price DESC\n",
        "# Python:\n",
        "print(\"\\nSorting (ORDER BY):\\n\")\n",
        "sorted_products = products_df.sort_values('price', ascending=False)\n",
        "print(sorted_products)\n",
        "\n",
        "# SQL: SELECT category, COUNT(*) FROM products GROUP BY category HAVING COUNT(*) > 1\n",
        "# Python:\n",
        "print(\"\\nGROUP BY with HAVING:\\n\")\n",
        "category_counts = products_df.groupby('category').size().reset_index(name='count')\n",
        "print(category_counts[category_counts['count'] > 1])"
      ]
    },
    {
      "cell_type": "markdown",
      "metadata": {
        "id": "FSQpLU7aBPGa"
      },
      "source": [
        "### EXERCISE: Try writing your own pandas operations to mimic SQL queries.\n",
        "\n",
        "Practice translating SQL queries you might use in your work to their pandas equivalents."
      ]
    },
    {
      "cell_type": "code",
      "execution_count": null,
      "metadata": {
        "id": "q6s9ruScBPGa"
      },
      "outputs": [],
      "source": [
        "# Your code here:\n",
        "\n"
      ]
    },
    {
      "cell_type": "markdown",
      "metadata": {
        "id": "vzWlY_yCBPGb"
      },
      "source": [
        "## SECTION 8: PUTTING IT ALL TOGETHER\n",
        "\n",
        "Let's create a function that performs a complete data analysis workflow."
      ]
    },
    {
      "cell_type": "code",
      "execution_count": null,
      "metadata": {
        "id": "tzdi7o_YBPGb"
      },
      "outputs": [],
      "source": [
        "def analyze_product_data(data):\n",
        "    # Create DataFrame\n",
        "    df = pd.DataFrame(data)\n",
        "\n",
        "    # Calculate basic statistics\n",
        "    total_products = len(df)\n",
        "    avg_price = df['price'].mean()\n",
        "    in_stock_count = df['in_stock'].sum()\n",
        "\n",
        "    # Group by category\n",
        "    category_stats = df.groupby('category').agg({\n",
        "        'product_id': 'count',\n",
        "        'price': ['mean', 'min', 'max'],\n",
        "        'in_stock': 'sum'\n",
        "    })\n",
        "\n",
        "    # Format and return results\n",
        "    print(f\"Total Products: {total_products}\")\n",
        "    print(f\"Average Price: ${avg_price:.2f}\")\n",
        "    print(f\"In-Stock Products: {in_stock_count} ({in_stock_count/total_products:.1%})\")\n",
        "    print(\"\\nCategory Statistics:\")\n",
        "    print(category_stats)\n",
        "\n",
        "    # Return the most expensive product\n",
        "    most_expensive = df.loc[df['price'].idxmax()]\n",
        "    return most_expensive\n",
        "\n",
        "# Run the analysis\n",
        "print(\"\\nProduct Analysis Results:\")\n",
        "top_product = analyze_product_data(data)\n",
        "print(\"\\nMost Expensive Product:\")\n",
        "print(top_product)"
      ]
    },
    {
      "cell_type": "markdown",
      "metadata": {
        "id": "kV4CIsyHBPGc"
      },
      "source": [
        "### FINAL EXERCISE: Expand the analyze_product_data function to include more analyses.\n",
        "\n",
        "For example, add calculations for median price, price ranges, or out-of-stock percentages."
      ]
    },
    {
      "cell_type": "code",
      "execution_count": null,
      "metadata": {
        "id": "jrasqAZdBPGc"
      },
      "outputs": [],
      "source": [
        "# Your code here:\n",
        "\n"
      ]
    },
    {
      "cell_type": "markdown",
      "metadata": {
        "id": "pmeykAKeBPGc"
      },
      "source": [
        "## NEXT STEPS\n",
        "\n",
        "Congratulations on completing this introduction to Python and Google Colab!\n",
        "\n",
        "### Tomorrow's class (Thursday, April 10)\n",
        "We'll dive deeper into data structures and control flow, focusing on:\n",
        "- Advanced data structures (nested lists and dictionaries)\n",
        "- Complex control flow patterns\n",
        "- List and dictionary comprehensions\n",
        "- Error handling\n",
        "\n",
        "### Assignment\n",
        "Please complete the Week 1 Minor Assignment before next Wednesday's class. The instructions and starter code are available in the course repository."
      ]
    }
  ],
  "metadata": {
    "kernelspec": {
      "display_name": "Python 3",
      "language": "python",
      "name": "python3"
    },
    "language_info": {
      "codemirror_mode": {
        "name": "ipython",
        "version": 3
      },
      "file_extension": ".py",
      "mimetype": "text/x-python",
      "name": "python",
      "nbconvert_exporter": "python",
      "pygments_lexer": "ipython3",
      "version": "3.9.12"
    },
    "colab": {
      "provenance": [],
      "include_colab_link": true
    }
  },
  "nbformat": 4,
  "nbformat_minor": 0
}